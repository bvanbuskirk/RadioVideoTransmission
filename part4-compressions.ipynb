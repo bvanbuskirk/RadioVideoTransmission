{
 "cells": [
  {
   "cell_type": "code",
   "execution_count": 1,
   "metadata": {},
   "outputs": [],
   "source": [
    "# EE123 Spring 2022 Final Project\n",
    "# Authors: Brandon VanBuskirk, Steven Foryoung, Matthew Haddad"
   ]
  },
  {
   "cell_type": "code",
   "execution_count": 2,
   "metadata": {},
   "outputs": [],
   "source": [
    "# we can remove unused imports later. \n",
    "import numpy as np\n",
    "import matplotlib.pyplot as plt\n",
    "import queue as Queue\n",
    "import threading\n",
    "import time\n",
    "import sys\n",
    "import multiprocessing\n",
    "\n",
    "from numpy import ones, zeros, pi, sin, cos, exp, sign, r_, mean, power\n",
    "from numpy.fft import fft, fftshift, ifft, ifftshift\n",
    "from scipy import signal\n",
    "from scipy import integrate\n",
    "\n",
    "import bitarray\n",
    "from scipy.io.wavfile import read as wavread\n",
    "import ax25 as ax25\n",
    "from math import gcd\n",
    "import sounddevice as sd\n",
    "import RPi.GPIO as GPIO\n",
    "from functools import reduce\n",
    "import base64\n",
    "\n",
    "%matplotlib inline\n",
    "# custom files\n",
    "from compress_functions import *\n",
    "from TNCaprs import *"
   ]
  },
  {
   "cell_type": "markdown",
   "metadata": {},
   "source": [
    "### Pre-task 1\n",
    "We create an audio loopback with the command\n",
    "```sh\n",
    "sudo modprobe snd_aloop\n",
    "```\n",
    "You can check that it was successful with\n",
    "```sh\n",
    "aplay -L | grep -i plughw:card=loopback\n",
    "aplay -l | grep -i loopback\n",
    "```\n",
    "\n",
    "Run the commands below and ensure the loopback exists."
   ]
  },
  {
   "cell_type": "code",
   "execution_count": 3,
   "metadata": {},
   "outputs": [
    {
     "name": "stdout",
     "output_type": "stream",
     "text": [
      "plughw:CARD=Loopback,DEV=0\n",
      "plughw:CARD=Loopback,DEV=1\n",
      "card 2: Loopback [Loopback], device 0: Loopback PCM [Loopback PCM]\n",
      "card 2: Loopback [Loopback], device 1: Loopback PCM [Loopback PCM]\n"
     ]
    }
   ],
   "source": [
    "!sudo modprobe snd_aloop\n",
    "!aplay -L | grep -i plughw:card=loopback\n",
    "!aplay -l | grep -i loopback"
   ]
  },
  {
   "cell_type": "code",
   "execution_count": 4,
   "metadata": {},
   "outputs": [
    {
     "data": {
      "text/plain": [
       "   0 bcm2835 Headphones: - (hw:0,0), ALSA (0 in, 8 out)\n",
       "   1 Fe-Pi Audio: HiFi sgtl5000-0 (hw:1,0), ALSA (2 in, 2 out)\n",
       "   2 Loopback: PCM (hw:2,0), ALSA (32 in, 32 out)\n",
       "   3 Loopback: PCM (hw:2,1), ALSA (1 in, 1 out)\n",
       "   4 sysdefault, ALSA (0 in, 128 out)\n",
       "   5 lavrate, ALSA (0 in, 128 out)\n",
       "   6 samplerate, ALSA (0 in, 128 out)\n",
       "   7 speexrate, ALSA (0 in, 128 out)\n",
       "   8 pulse, ALSA (32 in, 32 out)\n",
       "   9 upmix, ALSA (0 in, 8 out)\n",
       "  10 vdownmix, ALSA (0 in, 6 out)\n",
       "  11 dmix, ALSA (0 in, 2 out)\n",
       "* 12 default, ALSA (32 in, 32 out)"
      ]
     },
     "execution_count": 4,
     "metadata": {},
     "output_type": "execute_result"
    }
   ],
   "source": [
    "sd.query_devices()"
   ]
  },
  {
   "cell_type": "code",
   "execution_count": 5,
   "metadata": {},
   "outputs": [
    {
     "name": "stdout",
     "output_type": "stream",
     "text": [
      "None\n"
     ]
    }
   ],
   "source": [
    "print(sd.check_output_settings())"
   ]
  },
  {
   "cell_type": "code",
   "execution_count": 6,
   "metadata": {},
   "outputs": [],
   "source": [
    "builtin_idx = 0\n",
    "usb_idx = 1\n",
    "loop_idx = 3  # Use loopback dev 1! direwolf is connected to dev 0.\n",
    "loop_idx_rcv = 2 # Use loopback dev 0. \n",
    "sd.default.samplerate = 48000\n",
    "sd.default.channels = 1"
   ]
  },
  {
   "cell_type": "code",
   "execution_count": 7,
   "metadata": {},
   "outputs": [],
   "source": [
    "# Enter your address here\n",
    "myaddress = \"Cory Hall Berkeley CA USA\"\n",
    "\n",
    "from geopy.geocoders import Nominatim\n",
    "geolocator = Nominatim(user_agent=\"EE123\")\n",
    "location = geolocator.geocode(myaddress)"
   ]
  },
  {
   "cell_type": "code",
   "execution_count": 8,
   "metadata": {},
   "outputs": [
    {
     "name": "stdout",
     "output_type": "stream",
     "text": [
      "Cory Hall, A. Richard Newton Bridge, Northside, Berkeley, Alameda County, California, 94720, United States\n",
      "(37.87505015, -122.25784108556292)\n"
     ]
    }
   ],
   "source": [
    "# hopefully it did not fail\n",
    "print(location.address)\n",
    "print((location.latitude, location.longitude))"
   ]
  },
  {
   "cell_type": "code",
   "execution_count": 9,
   "metadata": {},
   "outputs": [
    {
     "name": "stdout",
     "output_type": "stream",
     "text": [
      "lat=37^52.50N long=122^15.47W\n"
     ]
    }
   ],
   "source": [
    "import math\n",
    "lat = \"lat=%d^%2.2f%s\" % (int(abs(location.latitude)),\n",
    "                          60*(abs(location.latitude) - abs(math.floor(location.latitude))),\n",
    "                          (\"N\") if location.latitude >0 else \"S\" )  \n",
    "long = \"long=%d^%2.2f%s\" % (int(abs(location.longitude)),\n",
    "                            60*(abs(location.longitude) - math.floor(abs(location.longitude))),\n",
    "                          (\"W\") if location.longitude <0 else \"E\" )  \n",
    "                            \n",
    "print(lat, long)"
   ]
  },
  {
   "cell_type": "code",
   "execution_count": 10,
   "metadata": {},
   "outputs": [
    {
     "name": "stdout",
     "output_type": "stream",
     "text": [
      "Passcode: 13478\n"
     ]
    }
   ],
   "source": [
    "# enter your callsign and comment for the beacon\n",
    "callsign = \"EE1233-8\"\n",
    "comment = \"EE123 Final Project\"\n",
    "\n",
    "# generate passcode\n",
    "callsignr = callsign.split('-')[0].upper()\n",
    "code = 0x73e2\n",
    "for i, char in enumerate(callsignr):\n",
    "    code ^= ord(char) << (8 if not i % 2 else 0)\n",
    "\n",
    "passcode = code & 0x7fff\n",
    "print(\"Passcode:\", passcode)"
   ]
  },
  {
   "cell_type": "code",
   "execution_count": 11,
   "metadata": {},
   "outputs": [
    {
     "name": "stdout",
     "output_type": "stream",
     "text": [
      "cat direwolf-loopback-DRAFT.conf  | sed  's/EE123_CALL/EE1233-8/g'  | sed  's/EE123_PASSCODE/13478/g' | sed  's/EE123_COMMENT/comment=\"EE123 Final Project\"/g' | sed  's/EE123_LATCOORD/lat=37^52.50N/g' | sed  's/EE123_LONGCOORD/long=122^15.47W/g' > direwolf-loopback.conf\n"
     ]
    },
    {
     "data": {
      "text/plain": [
       "0"
      ]
     },
     "execution_count": 11,
     "metadata": {},
     "output_type": "execute_result"
    }
   ],
   "source": [
    "import os\n",
    "\n",
    "cmd = \"cat direwolf-loopback-DRAFT.conf  | sed  's/EE123_CALL/\"+callsign+\"/g'  | \"\n",
    "cmd = cmd +  \"sed  's/EE123_PASSCODE/%d/g' | \" % (passcode)\n",
    "cmd = cmd +  \"sed  's/EE123_COMMENT/comment=\\\"%s\\\"/g' | \" % (comment)\n",
    "cmd = cmd +  \"sed  's/EE123_LATCOORD/%s/g' | \" % (lat)\n",
    "cmd = cmd +  \"sed  's/EE123_LONGCOORD/%s/g' > direwolf-loopback.conf\" % (long)\n",
    "print(cmd)\n",
    "os.system(cmd)  # NOTE: this is poor security practice, but conveniently concise here"
   ]
  },
  {
   "cell_type": "markdown",
   "metadata": {},
   "source": [
    "### Pre-task 4\n",
    "Once you have edited the config file, start a terminal (either via SSH or in Jupyter from the directory page), change to this directory, and run\n",
    "```sh\n",
    "./run-direwolf.sh\n",
    "```\n",
    "\n",
    "Leave direwolf running while you are working on the lab. You can close it with control-c once you are finished.\n",
    "\n",
    "* **Go to  http://igen2.eecs.berkeley.edu:14501 and make sure your callsign+ssid appears under clients.**"
   ]
  },
  {
   "cell_type": "code",
   "execution_count": 20,
   "metadata": {},
   "outputs": [],
   "source": [
    "# png file selection\n",
    "input_png = \"Rolling_cal.png\"\n",
    "output_png = \"reconstructed_cal.png\""
   ]
  },
  {
   "cell_type": "code",
   "execution_count": null,
   "metadata": {},
   "outputs": [],
   "source": [
    "# perform processing, save output pngs\n",
    "# current processing:\n",
    "# 1. mirror pad, chroma downsampling\n",
    "# 2. break into blocks\n",
    "# 3. DCT-II Transform\n",
    "# 4. quantization\n",
    "# 5. zigzag, ZRLE\n",
    "# 6. Huffman encoding\n",
    "# 7. split into DC/AC blocks\n",
    "# 8. reconstruct bits from DC/AC channels"
   ]
  },
  {
   "cell_type": "code",
   "execution_count": 22,
   "metadata": {},
   "outputs": [],
   "source": [
    "# Load apng into individual png files\n",
    "im = APNG.open(input_png)\n",
    "input_files, output_files = [], []\n",
    "for i, (png, control) in enumerate(im.frames):\n",
    "    frame = \"input_frames/{i}.png\".format(i=i)\n",
    "    input_files.append(frame)\n",
    "    png.save(frame)"
   ]
  },
  {
   "cell_type": "code",
   "execution_count": 24,
   "metadata": {},
   "outputs": [],
   "source": [
    "encoded_bits = []\n",
    "num_frames = len(input_files)\n",
    "for i in range(num_frames):\n",
    "    img = Image.open(input_files[i])\n",
    "    frame = \"output_frames/{i}.png\".format(i=i)\n",
    "    \n",
    "    \n",
    "    output_files.append(frame)\n",
    "    img = np.array(img)[:,:,0:3]\n",
    "    M, N = img.shape[0:2]\n",
    "    # encoding/decoding of image\n",
    "    bits = encode_image(img, quality=75)\n",
    "    encoded_bits.append(bits)\n",
    "\n",
    "    img_dec = decode_image(bits, M, N, quality=75)\n",
    "    pil_image = Image.fromarray(img_dec.astype(np.uint8),\"RGB\")\n",
    "    pil_image = pil_image.save(frame)\n",
    "    \n",
    "APNG.from_files(output_files, delay=100).save(output_png)"
   ]
  },
  {
   "cell_type": "code",
   "execution_count": 25,
   "metadata": {},
   "outputs": [
    {
     "name": "stdout",
     "output_type": "stream",
     "text": [
      "(13, 6)\n"
     ]
    }
   ],
   "source": [
    "# # generate bitstream to transmit\n",
    "# print(np.shape(encoded_bits))\n",
    "# bitstream = bitarray(format(M,'08b'))\n",
    "# bitstream.extend(bitarray(format(N,'08b')))\n",
    "# bitstream.extend(bitarray(format(num_frames,'08b')))"
   ]
  },
  {
   "cell_type": "code",
   "execution_count": 26,
   "metadata": {},
   "outputs": [],
   "source": [
    "# for i in range(num_frames):\n",
    "#     for j in range(6):\n",
    "#         bitstream.extend(bitarray(format(len(encoded_bits[i][j]), '16b')))\n",
    "# for i in range(num_frames):\n",
    "#     for j in range(6):\n",
    "#         bitstream.extend(encoded_bits[i][j])"
   ]
  },
  {
   "cell_type": "code",
   "execution_count": 28,
   "metadata": {},
   "outputs": [],
   "source": [
    "# print(\"bitstream\",len(bitstream))\n",
    "# base64 = ee123_bitarr_to_base64(bitstream)\n",
    "# print(M*N*6*len(input_files))"
   ]
  },
  {
   "cell_type": "code",
   "execution_count": 32,
   "metadata": {},
   "outputs": [
    {
     "name": "stdout",
     "output_type": "stream",
     "text": [
      "Putting packets in Queue\n",
      "Putting packets in Queue for transmission ID=1010\n",
      "Done. UID=1010\n",
      "There are 486 packets in Qout\n"
     ]
    }
   ],
   "source": [
    "# Enqueue and transmit images.\n",
    "\n",
    "callsign = \"EE1233-8\"\n",
    "partner_callsign = \"NU6XB\"\n",
    "fs = 48000\n",
    "modem = TNCaprs(fs=fs, Abuffer=1024, Nchunks=10)\n",
    "print(\"Putting packets in Queue\")\n",
    "\n",
    "# Enqueue the files\n",
    "\n",
    "# encode the file into a jpeg123 (files currently in input_files)\n",
    "# For each file, use file_to_b64 to convert\n",
    "# merge b64 convertions into a single data field\n",
    "\n",
    "\n",
    "file_b64 = file_to_b64(input_files[0])\n",
    "\n",
    "for i in range(1, len(input_files)):\n",
    "    file_b64 = file_b64 + file_to_b64(input_files[i])\n",
    "\n",
    "Qout, uid = enqueue_data(callsign=callsign, modem=modem, data=file_b64, uid=1010, fname=input_png)\n",
    "\n",
    "print(\"Done. UID=%s\" % uid.decode())\n",
    "print(f\"There are {Qout.qsize()} packets in Qout\")"
   ]
  },
  {
   "cell_type": "code",
   "execution_count": null,
   "metadata": {},
   "outputs": [],
   "source": [
    "#transmit packets to the server here"
   ]
  },
  {
   "cell_type": "code",
   "execution_count": null,
   "metadata": {},
   "outputs": [],
   "source": [
    "def make_QR_callback(Qin):\n",
    "    def queueREPLAY_callback(indata, outdata, frames, time, status):\n",
    "#         assert frames == 1024\n",
    "        if status:\n",
    "            print(status)\n",
    "        outdata[:] = indata\n",
    "        Qin.put(indata.copy()[:, 0]) # Global queue\n",
    "    return queueREPLAY_callback"
   ]
  },
  {
   "cell_type": "code",
   "execution_count": null,
   "metadata": {},
   "outputs": [],
   "source": []
  },
  {
   "cell_type": "code",
   "execution_count": 33,
   "metadata": {},
   "outputs": [],
   "source": [
    "# Now we will receive and reassemble a file transmitted over the loopback interface."
   ]
  },
  {
   "cell_type": "code",
   "execution_count": null,
   "metadata": {},
   "outputs": [],
   "source": []
  },
  {
   "cell_type": "code",
   "execution_count": null,
   "metadata": {},
   "outputs": [],
   "source": [
    "# transmission\n",
    "Qin = Queue.Queue()\n",
    "print(\"Starting transmission\")\n",
    "starttime = time.time()\n",
    "# Your code here: Modulate and send\n",
    "while not Qout.empty():\n",
    "    sd.play(Qout.get()*0.15, samplerate=48000, device=loop_idx, blocking=True)\n",
    "    time.sleep(0.2)\n",
    "# End of your code"
   ]
  },
  {
   "cell_type": "code",
   "execution_count": null,
   "metadata": {},
   "outputs": [],
   "source": []
  }
 ],
 "metadata": {
  "kernelspec": {
   "display_name": "Python 3",
   "language": "python",
   "name": "python3"
  },
  "language_info": {
   "codemirror_mode": {
    "name": "ipython",
    "version": 3
   },
   "file_extension": ".py",
   "mimetype": "text/x-python",
   "name": "python",
   "nbconvert_exporter": "python",
   "pygments_lexer": "ipython3",
   "version": "3.7.3"
  }
 },
 "nbformat": 4,
 "nbformat_minor": 4
}
